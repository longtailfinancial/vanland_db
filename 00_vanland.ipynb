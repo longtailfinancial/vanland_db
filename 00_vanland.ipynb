{
 "cells": [
  {
   "cell_type": "code",
   "execution_count": 1,
   "metadata": {},
   "outputs": [],
   "source": [
    "# default_exp scraper"
   ]
  },
  {
   "cell_type": "markdown",
   "metadata": {},
   "source": [
    "# Scraper\n",
    "\n",
    "> This module is used to scrape https://www.point2homes.com for all land available on Vancouver Island."
   ]
  },
  {
   "cell_type": "code",
   "execution_count": 10,
   "metadata": {},
   "outputs": [],
   "source": [
    "#hide\n",
    "from nbdev.showdoc import *\n",
    "from lxml.etree import HTML\n",
    "from selenium import webdriver\n",
    "from selenium.webdriver.common.by import By\n",
    "import xmltodict as xd\n",
    "from time import sleep\n",
    "from lxml import etree\n"
   ]
  },
  {
   "cell_type": "code",
   "execution_count": 3,
   "metadata": {},
   "outputs": [],
   "source": [
    "def read_land_column(lands):\n",
    "    land_list = []\n",
    "    for land in lands:\n",
    "        data = xd.parse(etree.tostring(land))['div']['div']\n",
    "        address = data[0]['@data-address']\n",
    "        try:\n",
    "            price = data[1]['@data-price']\n",
    "            lot_size = data[2]['ul']['li'][0]['strong']\n",
    "            property_type = data[2]['ul']['li'][1]['#text']\n",
    "            link = data[4]['a']['@href']\n",
    "            land_list.append({\n",
    "                'address': address,\n",
    "                'price':price,\n",
    "                'lot_size':lot_size,\n",
    "                'property_type':property_type,\n",
    "                'link':link\n",
    "            })\n",
    "        except:\n",
    "            print(f'Failed on {address}')\n",
    "    return land_list"
   ]
  },
  {
   "cell_type": "code",
   "execution_count": 4,
   "metadata": {},
   "outputs": [],
   "source": [
    "url = \"https://www.point2homes.com/CA/Real-Estate-Maps/BC/Vancouver-Island.html\"\n",
    "\n",
    "browser = webdriver.Firefox()\n",
    "browser.get(url)"
   ]
  },
  {
   "cell_type": "code",
   "execution_count": 8,
   "metadata": {},
   "outputs": [],
   "source": [
    "pages = []"
   ]
  },
  {
   "cell_type": "code",
   "execution_count": null,
   "metadata": {},
   "outputs": [],
   "source": []
  },
  {
   "cell_type": "code",
   "execution_count": 11,
   "metadata": {},
   "outputs": [
    {
     "name": "stdout",
     "output_type": "stream",
     "text": [
      "Failed on 103 Hamilton Ave \n",
      "Failed on 2580 Piercy Road \n",
      "Failed on 1032 Harling Lane \n",
      "Failed on 9351 Chemainus Road \n",
      "Failed on 355 GARDENER WAY \n",
      "Failed on 609 Oliver St \n",
      "Failed on 2007 Romney Rd \n",
      "Failed on 3863 Howard Ave \n",
      "Failed on 2487 Kentmere Ave Lot 7 \n",
      "Failed on 3107 Elsie Lake Circle \n",
      "Failed on 9190 Chemainus Road 2\n",
      "Failed on 4916 Lathom Road \n",
      "Failed on 1836 Astra Road \n",
      "Failed on 2463 Ainsley Place \n",
      "Failed on 3484 Carlisle Place \n",
      "Failed on 1130 Resort Drive \n",
      "Failed on 575 Elk Trail \n",
      "Failed on 5305 Lacon Road \n",
      "Failed on 989 Johnson St \n",
      "Failed on 1175 Newport Ave \n",
      "Failed on 4018 Southwalk Drive \n",
      "Failed on 678 22nd Street \n",
      "Failed on 3555 Outrigger Road 104\n",
      "Failed on 5151 Island Hwy W \n",
      "1\n",
      "Next Page\n",
      "Failed on 324 Archibald rd \n",
      "Failed on 4825 Hazel St \n",
      "Failed on 969 Walfred Rd \n",
      "Failed on 196/198 Cooper Road \n",
      "Failed on 77 - 5700 Jinkerson Rd \n",
      "Failed on 2598 Mountainview Crescent \n",
      "Failed on 7557 REVELSTOKE AVENUE \n",
      "Failed on 3031 Park Place \n",
      "Failed on 1265 Cherry Point Road 1\n",
      "Failed on 2751 Westside Road \n",
      "Failed on 47310 Mountain Park Drive \n",
      "Failed on 375 Newcastle Ave \n",
      "Failed on 321 Yorkton Avenue \n",
      "Failed on 2418 Andover Road \n",
      "Failed on 8526 Rumming Road \n",
      "Failed on 101-207 DOUGLAS AVE \n",
      "Failed on 12-46000 Thomas Road \n",
      "Failed on 2860 WESTSYDE ROAD \n",
      "Failed on 712 Shuswap rd \n",
      "Failed on 5003 Oleander Drive \n",
      "Failed on 2491 Kentmere Ave \n",
      "Failed on 374 EASTSIDE ROAD \n",
      "Failed on 290 Regina Ave \n",
      "Failed on 3767 Brown Road \n",
      "Failed on 175 Centennial \n",
      "Failed on 4381 Mountain Road \n",
      "Failed on 1577 Dingwall Road \n",
      "Failed on 4744 Uplands Drive \n",
      "Failed on 5157 East Barriere Lake Road \n",
      "Failed on 18701 66 Ave \n",
      "Failed on 12 -BORREGO RIDGE ROAD 12\n",
      "Failed on 15188 28 Ave \n",
      "Failed on 55 Furlong Road \n",
      "Failed on 691 Morison Ave \n",
      "Failed on 5901 COLUMBIA ROAD \n",
      "Failed on 6514 Meadows Drive \n",
      "Failed on 387 TOWNLEY STREET \n",
      "Failed on 646 Jadel Dr \n",
      "Failed on 2434 Tutor Drive \n",
      "Failed on 3555 Outrigger Road 302\n",
      "Failed on 4288 15th Ave \n",
      "Failed on DL 594 + 1729 EXCEPT PLAN 34764 BIG BAR ROAD \n",
      "Failed on 7 - 5700 Jinkerson Rd \n",
      "Failed on 4508 Hazel Street \n",
      "Failed on 5471 Secret Cove Road \n",
      "Failed on 1163 River Rock Place \n",
      "Failed on 2932 Buckley Road \n",
      "Failed on 2700 Turnbull Road \n",
      "Failed on 2579 La Selva Place \n",
      "Failed on 5371 Princeton Avenue \n",
      "Failed on 9190 Chemainus Road 1\n",
      "Failed on 102- 417 RENE AVE \n",
      "Failed on 516 Silversage Place \n",
      "Failed on 327 Wyndhaven Drive \n",
      "Failed on lot 14 Hemlock Crescent North \n",
      "Failed on 2850 Walsh Road \n",
      "Failed on 185 Whitevale Road \n",
      "Failed on 310 Copper Kettle Lodge \n",
      "Failed on 921 Spillway Road \n",
      "Failed on 46 Lakeshore Drive, Vernon, V1H 2A1 \n",
      "Failed on 1080 Resort Drive \n",
      "Failed on No address available \n",
      "Failed on 2049 Summit Drive \n",
      "Failed on 3790 Mallard Place \n",
      "Failed on 2202 Navigators Rise \n",
      "Failed on 523 Crestwood Court \n",
      "Failed on 3095 Cliffs Road 8\n",
      "Failed on 105-965 KING STREET \n",
      "Failed on 6524 Savona Access rd \n",
      "Failed on 7346 Old Stamp Mill Road \n",
      "Failed on 3918 Reo Road \n",
      "Failed on 2133 Windsor Rd \n",
      "Failed on 930 Yates St \n",
      "Failed on 1881 FOXWOOD Trail, Windermere \n",
      "Failed on 5811 177B St \n",
      "Failed on 2166 Bealby Point Road \n",
      "Failed on 1236 Malahat Drive \n",
      "Failed on 8221 Nechako Dr \n",
      "Failed on 9902 Echo Heights \n",
      "Failed on 2957 LITTLE BIG BAR LAKE \n",
      "Failed on 1521 2nd avenue \n",
      "Failed on 105-98 OKANAGAN AVE E \n",
      "Failed on 798 WAIN ROAD \n",
      "Failed on 9101 99 Avenue \n",
      "Failed on 200-10th Avenue \n",
      "Failed on 4811 - 10A Avenue, NE \n",
      "Failed on 978 Swansea View Road \n",
      "Failed on 1045 Cumberland Road \n",
      "Failed on 23298 130 Ave \n",
      "Failed on 909 Hemlock Crescent, RV Storage lot \n",
      "Failed on 1545 Kye Bay Road \n",
      "Failed on 1860 Knight road \n",
      "Failed on 1424 Crown Isle Blvd \n",
      "8\n",
      "Next Page\n"
     ]
    },
    {
     "ename": "ElementClickInterceptedException",
     "evalue": "Message: Element <a class=\"pager-next\" href=\"javascript:void(0)\"> is not clickable at point (302,856) because another element <div id=\"psrk-popup-overlay\"> obscures it\n",
     "output_type": "error",
     "traceback": [
      "\u001b[0;31m---------------------------------------------------------------------------\u001b[0m",
      "\u001b[0;31mElementClickInterceptedException\u001b[0m          Traceback (most recent call last)",
      "\u001b[0;32m<ipython-input-11-64b52753238d>\u001b[0m in \u001b[0;36m<module>\u001b[0;34m\u001b[0m\n\u001b[1;32m     13\u001b[0m     \u001b[0;32melse\u001b[0m\u001b[0;34m:\u001b[0m\u001b[0;34m\u001b[0m\u001b[0;34m\u001b[0m\u001b[0m\n\u001b[1;32m     14\u001b[0m         \u001b[0mprint\u001b[0m\u001b[0;34m(\u001b[0m\u001b[0;34m'Next Page'\u001b[0m\u001b[0;34m)\u001b[0m\u001b[0;34m\u001b[0m\u001b[0;34m\u001b[0m\u001b[0m\n\u001b[0;32m---> 15\u001b[0;31m         \u001b[0me\u001b[0m\u001b[0;34m.\u001b[0m\u001b[0mclick\u001b[0m\u001b[0;34m(\u001b[0m\u001b[0;34m)\u001b[0m\u001b[0;34m\u001b[0m\u001b[0;34m\u001b[0m\u001b[0m\n\u001b[0m\u001b[1;32m     16\u001b[0m         \u001b[0msleep\u001b[0m\u001b[0;34m(\u001b[0m\u001b[0;36m10\u001b[0m\u001b[0;34m)\u001b[0m\u001b[0;34m\u001b[0m\u001b[0;34m\u001b[0m\u001b[0m\n",
      "\u001b[0;32m~/.virtualenvs/LTF/lib/python3.6/site-packages/selenium/webdriver/remote/webelement.py\u001b[0m in \u001b[0;36mclick\u001b[0;34m(self)\u001b[0m\n\u001b[1;32m     78\u001b[0m     \u001b[0;32mdef\u001b[0m \u001b[0mclick\u001b[0m\u001b[0;34m(\u001b[0m\u001b[0mself\u001b[0m\u001b[0;34m)\u001b[0m\u001b[0;34m:\u001b[0m\u001b[0;34m\u001b[0m\u001b[0;34m\u001b[0m\u001b[0m\n\u001b[1;32m     79\u001b[0m         \u001b[0;34m\"\"\"Clicks the element.\"\"\"\u001b[0m\u001b[0;34m\u001b[0m\u001b[0;34m\u001b[0m\u001b[0m\n\u001b[0;32m---> 80\u001b[0;31m         \u001b[0mself\u001b[0m\u001b[0;34m.\u001b[0m\u001b[0m_execute\u001b[0m\u001b[0;34m(\u001b[0m\u001b[0mCommand\u001b[0m\u001b[0;34m.\u001b[0m\u001b[0mCLICK_ELEMENT\u001b[0m\u001b[0;34m)\u001b[0m\u001b[0;34m\u001b[0m\u001b[0;34m\u001b[0m\u001b[0m\n\u001b[0m\u001b[1;32m     81\u001b[0m \u001b[0;34m\u001b[0m\u001b[0m\n\u001b[1;32m     82\u001b[0m     \u001b[0;32mdef\u001b[0m \u001b[0msubmit\u001b[0m\u001b[0;34m(\u001b[0m\u001b[0mself\u001b[0m\u001b[0;34m)\u001b[0m\u001b[0;34m:\u001b[0m\u001b[0;34m\u001b[0m\u001b[0;34m\u001b[0m\u001b[0m\n",
      "\u001b[0;32m~/.virtualenvs/LTF/lib/python3.6/site-packages/selenium/webdriver/remote/webelement.py\u001b[0m in \u001b[0;36m_execute\u001b[0;34m(self, command, params)\u001b[0m\n\u001b[1;32m    631\u001b[0m             \u001b[0mparams\u001b[0m \u001b[0;34m=\u001b[0m \u001b[0;34m{\u001b[0m\u001b[0;34m}\u001b[0m\u001b[0;34m\u001b[0m\u001b[0;34m\u001b[0m\u001b[0m\n\u001b[1;32m    632\u001b[0m         \u001b[0mparams\u001b[0m\u001b[0;34m[\u001b[0m\u001b[0;34m'id'\u001b[0m\u001b[0;34m]\u001b[0m \u001b[0;34m=\u001b[0m \u001b[0mself\u001b[0m\u001b[0;34m.\u001b[0m\u001b[0m_id\u001b[0m\u001b[0;34m\u001b[0m\u001b[0;34m\u001b[0m\u001b[0m\n\u001b[0;32m--> 633\u001b[0;31m         \u001b[0;32mreturn\u001b[0m \u001b[0mself\u001b[0m\u001b[0;34m.\u001b[0m\u001b[0m_parent\u001b[0m\u001b[0;34m.\u001b[0m\u001b[0mexecute\u001b[0m\u001b[0;34m(\u001b[0m\u001b[0mcommand\u001b[0m\u001b[0;34m,\u001b[0m \u001b[0mparams\u001b[0m\u001b[0;34m)\u001b[0m\u001b[0;34m\u001b[0m\u001b[0;34m\u001b[0m\u001b[0m\n\u001b[0m\u001b[1;32m    634\u001b[0m \u001b[0;34m\u001b[0m\u001b[0m\n\u001b[1;32m    635\u001b[0m     \u001b[0;32mdef\u001b[0m \u001b[0mfind_element\u001b[0m\u001b[0;34m(\u001b[0m\u001b[0mself\u001b[0m\u001b[0;34m,\u001b[0m \u001b[0mby\u001b[0m\u001b[0;34m=\u001b[0m\u001b[0mBy\u001b[0m\u001b[0;34m.\u001b[0m\u001b[0mID\u001b[0m\u001b[0;34m,\u001b[0m \u001b[0mvalue\u001b[0m\u001b[0;34m=\u001b[0m\u001b[0;32mNone\u001b[0m\u001b[0;34m)\u001b[0m\u001b[0;34m:\u001b[0m\u001b[0;34m\u001b[0m\u001b[0;34m\u001b[0m\u001b[0m\n",
      "\u001b[0;32m~/.virtualenvs/LTF/lib/python3.6/site-packages/selenium/webdriver/remote/webdriver.py\u001b[0m in \u001b[0;36mexecute\u001b[0;34m(self, driver_command, params)\u001b[0m\n\u001b[1;32m    319\u001b[0m         \u001b[0mresponse\u001b[0m \u001b[0;34m=\u001b[0m \u001b[0mself\u001b[0m\u001b[0;34m.\u001b[0m\u001b[0mcommand_executor\u001b[0m\u001b[0;34m.\u001b[0m\u001b[0mexecute\u001b[0m\u001b[0;34m(\u001b[0m\u001b[0mdriver_command\u001b[0m\u001b[0;34m,\u001b[0m \u001b[0mparams\u001b[0m\u001b[0;34m)\u001b[0m\u001b[0;34m\u001b[0m\u001b[0;34m\u001b[0m\u001b[0m\n\u001b[1;32m    320\u001b[0m         \u001b[0;32mif\u001b[0m \u001b[0mresponse\u001b[0m\u001b[0;34m:\u001b[0m\u001b[0;34m\u001b[0m\u001b[0;34m\u001b[0m\u001b[0m\n\u001b[0;32m--> 321\u001b[0;31m             \u001b[0mself\u001b[0m\u001b[0;34m.\u001b[0m\u001b[0merror_handler\u001b[0m\u001b[0;34m.\u001b[0m\u001b[0mcheck_response\u001b[0m\u001b[0;34m(\u001b[0m\u001b[0mresponse\u001b[0m\u001b[0;34m)\u001b[0m\u001b[0;34m\u001b[0m\u001b[0;34m\u001b[0m\u001b[0m\n\u001b[0m\u001b[1;32m    322\u001b[0m             response['value'] = self._unwrap_value(\n\u001b[1;32m    323\u001b[0m                 response.get('value', None))\n",
      "\u001b[0;32m~/.virtualenvs/LTF/lib/python3.6/site-packages/selenium/webdriver/remote/errorhandler.py\u001b[0m in \u001b[0;36mcheck_response\u001b[0;34m(self, response)\u001b[0m\n\u001b[1;32m    240\u001b[0m                 \u001b[0malert_text\u001b[0m \u001b[0;34m=\u001b[0m \u001b[0mvalue\u001b[0m\u001b[0;34m[\u001b[0m\u001b[0;34m'alert'\u001b[0m\u001b[0;34m]\u001b[0m\u001b[0;34m.\u001b[0m\u001b[0mget\u001b[0m\u001b[0;34m(\u001b[0m\u001b[0;34m'text'\u001b[0m\u001b[0;34m)\u001b[0m\u001b[0;34m\u001b[0m\u001b[0;34m\u001b[0m\u001b[0m\n\u001b[1;32m    241\u001b[0m             \u001b[0;32mraise\u001b[0m \u001b[0mexception_class\u001b[0m\u001b[0;34m(\u001b[0m\u001b[0mmessage\u001b[0m\u001b[0;34m,\u001b[0m \u001b[0mscreen\u001b[0m\u001b[0;34m,\u001b[0m \u001b[0mstacktrace\u001b[0m\u001b[0;34m,\u001b[0m \u001b[0malert_text\u001b[0m\u001b[0;34m)\u001b[0m\u001b[0;34m\u001b[0m\u001b[0;34m\u001b[0m\u001b[0m\n\u001b[0;32m--> 242\u001b[0;31m         \u001b[0;32mraise\u001b[0m \u001b[0mexception_class\u001b[0m\u001b[0;34m(\u001b[0m\u001b[0mmessage\u001b[0m\u001b[0;34m,\u001b[0m \u001b[0mscreen\u001b[0m\u001b[0;34m,\u001b[0m \u001b[0mstacktrace\u001b[0m\u001b[0;34m)\u001b[0m\u001b[0;34m\u001b[0m\u001b[0;34m\u001b[0m\u001b[0m\n\u001b[0m\u001b[1;32m    243\u001b[0m \u001b[0;34m\u001b[0m\u001b[0m\n\u001b[1;32m    244\u001b[0m     \u001b[0;32mdef\u001b[0m \u001b[0m_value_or_default\u001b[0m\u001b[0;34m(\u001b[0m\u001b[0mself\u001b[0m\u001b[0;34m,\u001b[0m \u001b[0mobj\u001b[0m\u001b[0;34m,\u001b[0m \u001b[0mkey\u001b[0m\u001b[0;34m,\u001b[0m \u001b[0mdefault\u001b[0m\u001b[0;34m)\u001b[0m\u001b[0;34m:\u001b[0m\u001b[0;34m\u001b[0m\u001b[0;34m\u001b[0m\u001b[0m\n",
      "\u001b[0;31mElementClickInterceptedException\u001b[0m: Message: Element <a class=\"pager-next\" href=\"javascript:void(0)\"> is not clickable at point (302,856) because another element <div id=\"psrk-popup-overlay\"> obscures it\n"
     ]
    }
   ],
   "source": [
    "while(1):\n",
    "    html = browser.page_source\n",
    "    tree = HTML(html)\n",
    "    lands = tree.xpath(\"//div[@class='item_information']\")\n",
    "    \n",
    "    pages = pages + read_land_column(lands)\n",
    "    \n",
    "    print(len(pages))\n",
    "\n",
    "    e = browser.find_element(By.XPATH, \"//a[starts-with(@class,'pager-next')]\")\n",
    "    if 'disabled' in e.get_attribute('class'):\n",
    "        break\n",
    "    else:\n",
    "        print('Next Page')\n",
    "        e.click()\n",
    "        sleep(10)"
   ]
  },
  {
   "cell_type": "code",
   "execution_count": null,
   "metadata": {},
   "outputs": [],
   "source": [
    "df = pd.DataFrame(pages).drop_duplicates('address')"
   ]
  },
  {
   "cell_type": "code",
   "execution_count": null,
   "metadata": {},
   "outputs": [],
   "source": [
    "import re"
   ]
  },
  {
   "cell_type": "code",
   "execution_count": null,
   "metadata": {},
   "outputs": [],
   "source": [
    "def extract_numbers(s):\n",
    "    return float(''.join(re.findall(\"[-+]?\\d*\\.\\d+|\\d+\", s)))"
   ]
  },
  {
   "cell_type": "code",
   "execution_count": null,
   "metadata": {},
   "outputs": [],
   "source": [
    "extract_numbers('$799,000 CAD')"
   ]
  },
  {
   "cell_type": "code",
   "execution_count": null,
   "metadata": {},
   "outputs": [],
   "source": [
    "df['price_float'] = df['price'].apply(extract_numbers)"
   ]
  },
  {
   "cell_type": "code",
   "execution_count": null,
   "metadata": {},
   "outputs": [],
   "source": [
    "df['lot_size_float'] = df['lot_size'].apply(extract_numbers)"
   ]
  },
  {
   "cell_type": "code",
   "execution_count": null,
   "metadata": {},
   "outputs": [],
   "source": [
    "df['Dollar per Acre'] = df['price_float'] / df['lot_size_float']"
   ]
  },
  {
   "cell_type": "code",
   "execution_count": null,
   "metadata": {},
   "outputs": [],
   "source": [
    "df.head()"
   ]
  },
  {
   "cell_type": "code",
   "execution_count": null,
   "metadata": {},
   "outputs": [],
   "source": [
    "df = df.sort_values('Dollar per Acre')"
   ]
  },
  {
   "cell_type": "code",
   "execution_count": null,
   "metadata": {},
   "outputs": [],
   "source": [
    "df.head()"
   ]
  },
  {
   "cell_type": "code",
   "execution_count": null,
   "metadata": {},
   "outputs": [],
   "source": [
    "df.head(40)['link'].values"
   ]
  },
  {
   "cell_type": "code",
   "execution_count": null,
   "metadata": {},
   "outputs": [],
   "source": [
    "df['link'] = 'https://www.point2homes.com' + df['link']"
   ]
  },
  {
   "cell_type": "code",
   "execution_count": null,
   "metadata": {},
   "outputs": [],
   "source": [
    "df['Dollar per Acre'] = df['Dollar per Acre'].apply(round)"
   ]
  },
  {
   "cell_type": "code",
   "execution_count": null,
   "metadata": {},
   "outputs": [],
   "source": [
    "df.to_csv('VancouverIsland.csv', index=False)"
   ]
  },
  {
   "cell_type": "code",
   "execution_count": null,
   "metadata": {},
   "outputs": [
    {
     "data": {
      "text/plain": [
       "121"
      ]
     },
     "execution_count": null,
     "metadata": {},
     "output_type": "execute_result"
    }
   ],
   "source": [
    "len(pages)extract_numbers"
   ]
  },
  {
   "cell_type": "code",
   "execution_count": null,
   "metadata": {},
   "outputs": [],
   "source": []
  },
  {
   "cell_type": "code",
   "execution_count": null,
   "metadata": {},
   "outputs": [],
   "source": [
    "df = pd.DataFrame(land_list)"
   ]
  },
  {
   "cell_type": "code",
   "execution_count": null,
   "metadata": {},
   "outputs": [],
   "source": [
    "df.sort_values('price_float').to_csv('VancouverIsland-Cheapest.csv',index=False)"
   ]
  },
  {
   "cell_type": "code",
   "execution_count": null,
   "metadata": {},
   "outputs": [
    {
     "data": {
      "text/plain": [
       "array(['LT 38 RUXTON ISLAND ', '$75,000 CAD', '2.15 ac', 'Land',\n",
       "       '/CA/Vacant-Land-For-Sale/BC/Vancouver-Island/Cowichan-Valley/LT-38-RUXTON-ISLAND/88932209.html'],\n",
       "      dtype=object)"
      ]
     },
     "execution_count": null,
     "metadata": {},
     "output_type": "execute_result"
    }
   ],
   "source": [
    "df.iloc[92].values"
   ]
  },
  {
   "cell_type": "code",
   "execution_count": null,
   "metadata": {},
   "outputs": [],
   "source": []
  },
  {
   "cell_type": "code",
   "execution_count": null,
   "metadata": {},
   "outputs": [],
   "source": []
  },
  {
   "cell_type": "code",
   "execution_count": null,
   "metadata": {},
   "outputs": [],
   "source": [
    "next_page = browser.find_element(By.XPATH, \"//input[starts-with(@name,'username')]\")\n",
    "password = browser.find_element(By.XPATH, \"//input[starts-with(@name,'password')]\")\n",
    "\n",
    "username.send_keys(\"Carole@impactisi.com\")\n",
    "password.send_keys(\"password123\")\n",
    "browser.find_element(By.XPATH, \"//input[starts-with(@name,'Login')]\").click()"
   ]
  },
  {
   "cell_type": "code",
   "execution_count": null,
   "metadata": {},
   "outputs": [],
   "source": [
    "pager-next"
   ]
  },
  {
   "cell_type": "code",
   "execution_count": null,
   "metadata": {},
   "outputs": [],
   "source": [
    "# price, ac, price/ac, datetime, id, area"
   ]
  },
  {
   "cell_type": "code",
   "execution_count": null,
   "metadata": {},
   "outputs": [
    {
     "data": {
      "text/plain": [
       "10.38"
      ]
     },
     "execution_count": null,
     "metadata": {},
     "output_type": "execute_result"
    }
   ],
   "source": [
    "1038 / 100"
   ]
  },
  {
   "cell_type": "code",
   "execution_count": null,
   "metadata": {},
   "outputs": [
    {
     "ename": "SyntaxError",
     "evalue": "invalid syntax (<ipython-input-111-5589d66c2c9c>, line 3)",
     "output_type": "error",
     "traceback": [
      "\u001b[0;36m  File \u001b[0;32m\"<ipython-input-111-5589d66c2c9c>\"\u001b[0;36m, line \u001b[0;32m3\u001b[0m\n\u001b[0;31m    'price':\u001b[0m\n\u001b[0m           ^\u001b[0m\n\u001b[0;31mSyntaxError\u001b[0m\u001b[0;31m:\u001b[0m invalid syntax\n"
     ]
    }
   ],
   "source": [
    "item = {\n",
    "    'address':\n",
    "    'price':\n",
    "    'characteristics':\n",
    "    'labels':\n",
    "    'detail_link'\n",
    "}"
   ]
  },
  {
   "cell_type": "code",
   "execution_count": null,
   "metadata": {},
   "outputs": [],
   "source": [
    "import pandas as pd"
   ]
  },
  {
   "cell_type": "code",
   "execution_count": null,
   "metadata": {},
   "outputs": [],
   "source": [
    "from lxml import etree"
   ]
  },
  {
   "cell_type": "code",
   "execution_count": null,
   "metadata": {},
   "outputs": [
    {
     "data": {
      "text/plain": [
       "b'<div class=\"item_information\">\\n        <div class=\"item_address\" data-url=\"/CA/Vacant-Land-For-Sale/BC/Nanoose-Bay/LOT-1-Oak-Leaf-Drive/82258309.html\" data-tracking=\"\" data-address=\"LOT 1 Oak Leaf Drive \">\\n            <div class=\"address-container\">\\n                <span>LOT 1 Oak Leaf Drive </span>\\n            </div>\\n\\n        </div>\\n<div class=\"price \" data-price=\"$799,000 CAD\">\\n    <span class=\"green\">\\n            <span> $799,000 CAD</span>\\n    </span>\\n\\n</div>\\n        <div class=\"characteristics-cnt\">\\n\\n\\n<ul>\\n                    <li data-label=\"Lot Size\" class=\"ic-lotsize\">\\n            <strong>0.842 ac</strong> <span class=\"gray\">Lot Size</span>\\n        </li>\\n            <li class=\"property-type ic-proptype\">\\n            Land\\n        </li>\\n</ul>\\n\\n\\n        </div>\\n        <div class=\"labels\">\\n            <div class=\"featured-icon\" title=\"Featured\"/>\\n\\n        </div>\\n        <div class=\"lnk_details\">\\n            <a rel=\"\" href=\"/CA/Vacant-Land-For-Sale/BC/Nanoose-Bay/LOT-1-Oak-Leaf-Drive/82258309.html\" onclick=\"featuredListingClick(82258309, 2228339, \\'CA\\', 737097); psrk.cancelBubble(event);\" title=\"Land - LOT 1 Oak Leaf Drive \" target=\"_blank\"><span>Details</span></a>\\n        </div>\\n\\n    </div>\\n    '"
      ]
     },
     "execution_count": null,
     "metadata": {},
     "output_type": "execute_result"
    }
   ],
   "source": [
    "etree.tostring(tree)"
   ]
  },
  {
   "cell_type": "code",
   "execution_count": null,
   "metadata": {},
   "outputs": [
    {
     "data": {
      "text/plain": [
       "[b'<div class=\"item_information\">\\n        <div class=\"item_address\" data-url=\"/CA/Vacant-Land-For-Sale/BC/Nanoose-Bay/LOT-1-Oak-Leaf-Drive/82258309.html\" data-tracking=\"\" data-address=\"LOT 1 Oak Leaf Drive \">\\n            <div class=\"address-container\">\\n                <span>LOT 1 Oak Leaf Drive </span>\\n            </div>\\n\\n        </div>\\n<div class=\"price \" data-price=\"$799,000 CAD\">\\n    <span class=\"green\">\\n            <span> $799,000 CAD</span>\\n    </span>\\n\\n</div>\\n        <div class=\"characteristics-cnt\">\\n\\n\\n<ul>\\n                    <li data-label=\"Lot Size\" class=\"ic-lotsize\">\\n            <strong>0.842 ac</strong> <span class=\"gray\">Lot Size</span>\\n        </li>\\n            <li class=\"property-type ic-proptype\">\\n            Land\\n        </li>\\n</ul>\\n\\n\\n        </div>\\n        <div class=\"labels\">\\n            <div class=\"featured-icon\" title=\"Featured\"/>\\n\\n        </div>\\n        <div class=\"lnk_details\">\\n            <a rel=\"\" href=\"/CA/Vacant-Land-For-Sale/BC/Nanoose-Bay/LOT-1-Oak-Leaf-Drive/82258309.html\" onclick=\"featuredListingClick(82258309, 2228339, \\'CA\\', 737097); psrk.cancelBubble(event);\" title=\"Land - LOT 1 Oak Leaf Drive \" target=\"_blank\"><span>Details</span></a>\\n        </div>\\n\\n    </div>\\n    ']"
      ]
     },
     "execution_count": null,
     "metadata": {},
     "output_type": "execute_result"
    }
   ],
   "source": [
    "etree.tostringlist(tree)"
   ]
  },
  {
   "cell_type": "code",
   "execution_count": null,
   "metadata": {},
   "outputs": [],
   "source": []
  },
  {
   "cell_type": "code",
   "execution_count": null,
   "metadata": {},
   "outputs": [
    {
     "name": "stderr",
     "output_type": "stream",
     "text": [
      "/usr/lib/python3.6/urllib/parse.py:107: FutureWarning: The behavior of this method will change in future versions. Use specific 'len(elem)' or 'elem is not None' test instead.\n",
      "  return tuple(x.decode(encoding, errors) if x else '' for x in args)\n"
     ]
    },
    {
     "ename": "TypeError",
     "evalue": "Cannot read object of type '_Element'",
     "output_type": "error",
     "traceback": [
      "\u001b[0;31m---------------------------------------------------------------------------\u001b[0m",
      "\u001b[0;31mTypeError\u001b[0m                                 Traceback (most recent call last)",
      "\u001b[0;32m<ipython-input-98-388389fa760c>\u001b[0m in \u001b[0;36m<module>\u001b[0;34m\u001b[0m\n\u001b[0;32m----> 1\u001b[0;31m \u001b[0mpd\u001b[0m\u001b[0;34m.\u001b[0m\u001b[0mread_html\u001b[0m\u001b[0;34m(\u001b[0m\u001b[0mtree\u001b[0m\u001b[0;34m)\u001b[0m\u001b[0;34m\u001b[0m\u001b[0;34m\u001b[0m\u001b[0m\n\u001b[0m",
      "\u001b[0;32m~/.virtualenvs/LTF/lib/python3.6/site-packages/pandas/io/html.py\u001b[0m in \u001b[0;36mread_html\u001b[0;34m(io, match, flavor, header, index_col, skiprows, attrs, parse_dates, thousands, encoding, decimal, converters, na_values, keep_default_na, displayed_only)\u001b[0m\n\u001b[1;32m   1103\u001b[0m         \u001b[0mna_values\u001b[0m\u001b[0;34m=\u001b[0m\u001b[0mna_values\u001b[0m\u001b[0;34m,\u001b[0m\u001b[0;34m\u001b[0m\u001b[0;34m\u001b[0m\u001b[0m\n\u001b[1;32m   1104\u001b[0m         \u001b[0mkeep_default_na\u001b[0m\u001b[0;34m=\u001b[0m\u001b[0mkeep_default_na\u001b[0m\u001b[0;34m,\u001b[0m\u001b[0;34m\u001b[0m\u001b[0;34m\u001b[0m\u001b[0m\n\u001b[0;32m-> 1105\u001b[0;31m         \u001b[0mdisplayed_only\u001b[0m\u001b[0;34m=\u001b[0m\u001b[0mdisplayed_only\u001b[0m\u001b[0;34m,\u001b[0m\u001b[0;34m\u001b[0m\u001b[0;34m\u001b[0m\u001b[0m\n\u001b[0m\u001b[1;32m   1106\u001b[0m     )\n",
      "\u001b[0;32m~/.virtualenvs/LTF/lib/python3.6/site-packages/pandas/io/html.py\u001b[0m in \u001b[0;36m_parse\u001b[0;34m(flavor, io, match, attrs, encoding, displayed_only, **kwargs)\u001b[0m\n\u001b[1;32m    910\u001b[0m             \u001b[0;32mbreak\u001b[0m\u001b[0;34m\u001b[0m\u001b[0;34m\u001b[0m\u001b[0m\n\u001b[1;32m    911\u001b[0m     \u001b[0;32melse\u001b[0m\u001b[0;34m:\u001b[0m\u001b[0;34m\u001b[0m\u001b[0;34m\u001b[0m\u001b[0m\n\u001b[0;32m--> 912\u001b[0;31m         \u001b[0mraise_with_traceback\u001b[0m\u001b[0;34m(\u001b[0m\u001b[0mretained\u001b[0m\u001b[0;34m)\u001b[0m\u001b[0;34m\u001b[0m\u001b[0;34m\u001b[0m\u001b[0m\n\u001b[0m\u001b[1;32m    913\u001b[0m \u001b[0;34m\u001b[0m\u001b[0m\n\u001b[1;32m    914\u001b[0m     \u001b[0mret\u001b[0m \u001b[0;34m=\u001b[0m \u001b[0;34m[\u001b[0m\u001b[0;34m]\u001b[0m\u001b[0;34m\u001b[0m\u001b[0;34m\u001b[0m\u001b[0m\n",
      "\u001b[0;32m~/.virtualenvs/LTF/lib/python3.6/site-packages/pandas/compat/__init__.py\u001b[0m in \u001b[0;36mraise_with_traceback\u001b[0;34m(exc, traceback)\u001b[0m\n\u001b[1;32m     45\u001b[0m     \u001b[0;32mif\u001b[0m \u001b[0mtraceback\u001b[0m \u001b[0;34m==\u001b[0m \u001b[0mEllipsis\u001b[0m\u001b[0;34m:\u001b[0m\u001b[0;34m\u001b[0m\u001b[0;34m\u001b[0m\u001b[0m\n\u001b[1;32m     46\u001b[0m         \u001b[0m_\u001b[0m\u001b[0;34m,\u001b[0m \u001b[0m_\u001b[0m\u001b[0;34m,\u001b[0m \u001b[0mtraceback\u001b[0m \u001b[0;34m=\u001b[0m \u001b[0msys\u001b[0m\u001b[0;34m.\u001b[0m\u001b[0mexc_info\u001b[0m\u001b[0;34m(\u001b[0m\u001b[0;34m)\u001b[0m\u001b[0;34m\u001b[0m\u001b[0;34m\u001b[0m\u001b[0m\n\u001b[0;32m---> 47\u001b[0;31m     \u001b[0;32mraise\u001b[0m \u001b[0mexc\u001b[0m\u001b[0;34m.\u001b[0m\u001b[0mwith_traceback\u001b[0m\u001b[0;34m(\u001b[0m\u001b[0mtraceback\u001b[0m\u001b[0;34m)\u001b[0m\u001b[0;34m\u001b[0m\u001b[0;34m\u001b[0m\u001b[0m\n\u001b[0m\u001b[1;32m     48\u001b[0m \u001b[0;34m\u001b[0m\u001b[0m\n\u001b[1;32m     49\u001b[0m \u001b[0;34m\u001b[0m\u001b[0m\n",
      "\u001b[0;31mTypeError\u001b[0m: Cannot read object of type '_Element'"
     ]
    }
   ],
   "source": [
    "pd.read_html(tree)"
   ]
  },
  {
   "cell_type": "code",
   "execution_count": null,
   "metadata": {},
   "outputs": [],
   "source": [
    "tree = lands[0]"
   ]
  },
  {
   "cell_type": "code",
   "execution_count": null,
   "metadata": {},
   "outputs": [],
   "source": [
    "price = tree.xpath(\"//div[@class='price']\")\n"
   ]
  },
  {
   "cell_type": "code",
   "execution_count": null,
   "metadata": {},
   "outputs": [
    {
     "data": {
      "text/plain": [
       "[<Element div at 0x7fb8ac045a88>]"
      ]
     },
     "execution_count": null,
     "metadata": {},
     "output_type": "execute_result"
    }
   ],
   "source": [
    "price"
   ]
  },
  {
   "cell_type": "code",
   "execution_count": null,
   "metadata": {},
   "outputs": [],
   "source": [
    "e = price[0]"
   ]
  },
  {
   "cell_type": "code",
   "execution_count": null,
   "metadata": {},
   "outputs": [
    {
     "data": {
      "text/plain": [
       "'$47,900 CAD'"
      ]
     },
     "execution_count": null,
     "metadata": {},
     "output_type": "execute_result"
    }
   ],
   "source": [
    "e.text"
   ]
  },
  {
   "cell_type": "code",
   "execution_count": null,
   "metadata": {},
   "outputs": [],
   "source": []
  },
  {
   "cell_type": "code",
   "execution_count": null,
   "metadata": {},
   "outputs": [],
   "source": [
    "address = tree.xpath(\"//div[@class='item_address']\")\n"
   ]
  },
  {
   "cell_type": "code",
   "execution_count": null,
   "metadata": {},
   "outputs": [],
   "source": []
  },
  {
   "cell_type": "code",
   "execution_count": null,
   "metadata": {},
   "outputs": [
    {
     "data": {
      "text/plain": [
       "'LOT 1 Oak Leaf Drive '"
      ]
     },
     "execution_count": null,
     "metadata": {},
     "output_type": "execute_result"
    }
   ],
   "source": [
    "address[0].attrib['data-address']"
   ]
  },
  {
   "cell_type": "code",
   "execution_count": null,
   "metadata": {},
   "outputs": [],
   "source": [
    "data-address"
   ]
  },
  {
   "cell_type": "code",
   "execution_count": null,
   "metadata": {},
   "outputs": [],
   "source": [
    "descriptions = tree.xpath(\"//div[@class='info member-info']\")\n",
    "links = tree.xpath(\"//a[@class='learn-more']\")"
   ]
  },
  {
   "cell_type": "code",
   "execution_count": null,
   "metadata": {},
   "outputs": [
    {
     "data": {
      "text/plain": [
       "[<Element div at 0x7fb8ac0d0408>,\n",
       " <Element div at 0x7fb8ac0d0d08>,\n",
       " <Element div at 0x7fb8ac0f57c8>,\n",
       " <Element div at 0x7fb8ac045448>,\n",
       " <Element div at 0x7fb8ac045488>,\n",
       " <Element div at 0x7fb8ac045508>,\n",
       " <Element div at 0x7fb896df03c8>,\n",
       " <Element div at 0x7fb896df0408>,\n",
       " <Element div at 0x7fb896df0448>,\n",
       " <Element div at 0x7fb8ac0454c8>,\n",
       " <Element div at 0x7fb896df0488>,\n",
       " <Element div at 0x7fb896df04c8>,\n",
       " <Element div at 0x7fb896df0508>,\n",
       " <Element div at 0x7fb896df0548>,\n",
       " <Element div at 0x7fb896df0588>,\n",
       " <Element div at 0x7fb896df05c8>,\n",
       " <Element div at 0x7fb896df0608>,\n",
       " <Element div at 0x7fb896df0648>,\n",
       " <Element div at 0x7fb896df0688>,\n",
       " <Element div at 0x7fb896df06c8>,\n",
       " <Element div at 0x7fb896df0708>,\n",
       " <Element div at 0x7fb896df0748>,\n",
       " <Element div at 0x7fb896df0788>,\n",
       " <Element div at 0x7fb896df07c8>,\n",
       " <Element div at 0x7fb896df0808>,\n",
       " <Element div at 0x7fb896df0848>,\n",
       " <Element div at 0x7fb896df0888>,\n",
       " <Element div at 0x7fb896df08c8>,\n",
       " <Element div at 0x7fb896df0908>,\n",
       " <Element div at 0x7fb896df0948>,\n",
       " <Element div at 0x7fb896df0988>,\n",
       " <Element div at 0x7fb896df09c8>,\n",
       " <Element div at 0x7fb896df0a08>,\n",
       " <Element div at 0x7fb896df0a48>,\n",
       " <Element div at 0x7fb896df0a88>,\n",
       " <Element div at 0x7fb896df0ac8>,\n",
       " <Element div at 0x7fb896df0b08>,\n",
       " <Element div at 0x7fb896df0b48>,\n",
       " <Element div at 0x7fb896df0b88>,\n",
       " <Element div at 0x7fb896df0bc8>,\n",
       " <Element div at 0x7fb896df0c08>,\n",
       " <Element div at 0x7fb896df0c48>,\n",
       " <Element div at 0x7fb896df0c88>,\n",
       " <Element div at 0x7fb896df0cc8>,\n",
       " <Element div at 0x7fb896df0d08>,\n",
       " <Element div at 0x7fb896df0d48>,\n",
       " <Element div at 0x7fb896df0d88>,\n",
       " <Element div at 0x7fb896df0dc8>,\n",
       " <Element div at 0x7fb896df0e08>,\n",
       " <Element div at 0x7fb896df0e48>,\n",
       " <Element div at 0x7fb896df0e88>,\n",
       " <Element div at 0x7fb896df0ec8>,\n",
       " <Element div at 0x7fb896df0f08>,\n",
       " <Element div at 0x7fb896df0f48>,\n",
       " <Element div at 0x7fb896df0f88>,\n",
       " <Element div at 0x7fb896df0fc8>,\n",
       " <Element div at 0x7fb8ac073048>,\n",
       " <Element div at 0x7fb8ac073088>,\n",
       " <Element div at 0x7fb8ac0730c8>,\n",
       " <Element div at 0x7fb8ac073108>,\n",
       " <Element div at 0x7fb8ac073148>,\n",
       " <Element div at 0x7fb8ac073188>,\n",
       " <Element div at 0x7fb8ac0731c8>,\n",
       " <Element div at 0x7fb8ac073208>,\n",
       " <Element div at 0x7fb8ac073248>,\n",
       " <Element div at 0x7fb8ac073288>,\n",
       " <Element div at 0x7fb8ac0732c8>,\n",
       " <Element div at 0x7fb8ac073308>,\n",
       " <Element div at 0x7fb8ac073348>,\n",
       " <Element div at 0x7fb8ac073388>,\n",
       " <Element div at 0x7fb8ac0733c8>,\n",
       " <Element div at 0x7fb8ac073408>,\n",
       " <Element div at 0x7fb8ac073448>,\n",
       " <Element div at 0x7fb8ac073488>,\n",
       " <Element div at 0x7fb8ac0734c8>,\n",
       " <Element div at 0x7fb8ac073508>,\n",
       " <Element div at 0x7fb8ac073548>,\n",
       " <Element div at 0x7fb8ac073588>,\n",
       " <Element div at 0x7fb8ac0735c8>,\n",
       " <Element div at 0x7fb8ac073608>,\n",
       " <Element div at 0x7fb8ac073648>,\n",
       " <Element div at 0x7fb8ac073688>,\n",
       " <Element div at 0x7fb8ac0736c8>,\n",
       " <Element div at 0x7fb8ac073708>,\n",
       " <Element div at 0x7fb8ac073748>,\n",
       " <Element div at 0x7fb8ac073788>,\n",
       " <Element div at 0x7fb8ac0737c8>,\n",
       " <Element div at 0x7fb8ac073808>,\n",
       " <Element div at 0x7fb8ac073848>,\n",
       " <Element div at 0x7fb8ac073888>,\n",
       " <Element div at 0x7fb8ac0738c8>,\n",
       " <Element div at 0x7fb8ac073908>,\n",
       " <Element div at 0x7fb8ac073948>,\n",
       " <Element div at 0x7fb8ac073988>,\n",
       " <Element div at 0x7fb8ac0739c8>,\n",
       " <Element div at 0x7fb8ac073a08>,\n",
       " <Element div at 0x7fb8ac073a48>,\n",
       " <Element div at 0x7fb8ac073a88>,\n",
       " <Element div at 0x7fb8ac073ac8>,\n",
       " <Element div at 0x7fb8ac073b08>]"
      ]
     },
     "execution_count": null,
     "metadata": {},
     "output_type": "execute_result"
    }
   ],
   "source": [
    "lands"
   ]
  },
  {
   "cell_type": "markdown",
   "metadata": {},
   "source": [
    "# Loading Data"
   ]
  },
  {
   "cell_type": "code",
   "execution_count": 7,
   "metadata": {},
   "outputs": [],
   "source": [
    "import pandas as pd\n",
    "import hvplot.pandas\n",
    "import panel as pn"
   ]
  },
  {
   "cell_type": "code",
   "execution_count": 2,
   "metadata": {},
   "outputs": [],
   "source": [
    "df = pd.read_csv('VancouverIsland.csv')"
   ]
  },
  {
   "cell_type": "code",
   "execution_count": 13,
   "metadata": {},
   "outputs": [],
   "source": [
    "df.sort_values('price_float').to_csv('vanland_sorted.csv')"
   ]
  },
  {
   "cell_type": "code",
   "execution_count": null,
   "metadata": {},
   "outputs": [],
   "source": []
  }
 ],
 "metadata": {
  "kernelspec": {
   "display_name": "Python 3",
   "language": "python",
   "name": "python3"
  },
  "language_info": {
   "codemirror_mode": {
    "name": "ipython",
    "version": 3
   },
   "file_extension": ".py",
   "mimetype": "text/x-python",
   "name": "python",
   "nbconvert_exporter": "python",
   "pygments_lexer": "ipython3",
   "version": "3.6.8"
  }
 },
 "nbformat": 4,
 "nbformat_minor": 4
}
